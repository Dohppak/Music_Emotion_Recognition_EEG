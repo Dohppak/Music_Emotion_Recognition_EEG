{
 "cells": [
  {
   "cell_type": "code",
   "execution_count": 1,
   "metadata": {},
   "outputs": [],
   "source": [
    "import numpy as np\n",
    "import pandas as pd\n",
    "import matplotlib.pyplot as plt\n",
    "%matplotlib inline"
   ]
  },
  {
   "cell_type": "markdown",
   "metadata": {},
   "source": [
    "## Participant Data\n",
    "\n",
    "This file contains all the participant video ratings collected during the experiment.\n",
    "\n",
    "The start_time values were logged by the presentation software. Valence, arousal, dominance and liking were rated directly after each trial on a continuous 9-point scale using a standard mouse.\n",
    "\n",
    "SAM Mannequins were used to visualize the ratings for valence, arousal and dominance. For liking (i.e. how much did you like the video?), thumbs up and thumbs down icons were used. \n",
    "\n",
    "Familiarity was rated after the end of the experiment on a 5-point integer scale (from \"never heard it before\" to \"listen to it regularly\"). Familiarity ratings are unfortunately missing for participants 2, 15 and 23.\n",
    "\n",
    "| Column Name    | Information                                                                                       |\n",
    "|----------------|---------------------------------------------------------------------------------------------------|\n",
    "| Participant_id | The unique id of the participant (1-32).                                                          |\n",
    "| Trial          | The trial number (i.e. the presentation order).                                                   |\n",
    "| Experiment_id  | The video id corresponding to the same column in  the video_list file.                            |\n",
    "| Start_time     | The starting time of the trial video playback  in microseconds (relative to start of experiment). |\n",
    "| Valence        | The valence rating (float between 1 and 9).                                                       |\n",
    "| Arousal        | The arousal rating (float between 1 and 9).                                                       |\n",
    "| Dominance      | The dominance rating (float between 1 and 9).                                                     |\n",
    "| Liking         | The liking rating (float between 1 and 9).                                                        |\n",
    "| Familiarity    | The familiarity rating (integer between 1 and 5).  Blank if missing.                              |"
   ]
  },
  {
   "cell_type": "code",
   "execution_count": 2,
   "metadata": {},
   "outputs": [],
   "source": [
    "PR = pd.read_csv('./dataset/metadata_csv/participant_ratings.csv')"
   ]
  },
  {
   "cell_type": "code",
   "execution_count": 3,
   "metadata": {},
   "outputs": [
    {
     "data": {
      "text/html": [
       "<div>\n",
       "<style scoped>\n",
       "    .dataframe tbody tr th:only-of-type {\n",
       "        vertical-align: middle;\n",
       "    }\n",
       "\n",
       "    .dataframe tbody tr th {\n",
       "        vertical-align: top;\n",
       "    }\n",
       "\n",
       "    .dataframe thead th {\n",
       "        text-align: right;\n",
       "    }\n",
       "</style>\n",
       "<table border=\"1\" class=\"dataframe\">\n",
       "  <thead>\n",
       "    <tr style=\"text-align: right;\">\n",
       "      <th></th>\n",
       "      <th>Participant_id</th>\n",
       "      <th>Trial</th>\n",
       "      <th>Experiment_id</th>\n",
       "      <th>Start_time</th>\n",
       "      <th>Valence</th>\n",
       "      <th>Arousal</th>\n",
       "      <th>Dominance</th>\n",
       "      <th>Liking</th>\n",
       "      <th>Familiarity</th>\n",
       "    </tr>\n",
       "  </thead>\n",
       "  <tbody>\n",
       "    <tr>\n",
       "      <th>0</th>\n",
       "      <td>1</td>\n",
       "      <td>1</td>\n",
       "      <td>5</td>\n",
       "      <td>1695918</td>\n",
       "      <td>6.96</td>\n",
       "      <td>3.92</td>\n",
       "      <td>7.19</td>\n",
       "      <td>6.05</td>\n",
       "      <td>4.0</td>\n",
       "    </tr>\n",
       "    <tr>\n",
       "      <th>1</th>\n",
       "      <td>1</td>\n",
       "      <td>2</td>\n",
       "      <td>18</td>\n",
       "      <td>2714905</td>\n",
       "      <td>7.23</td>\n",
       "      <td>7.15</td>\n",
       "      <td>6.94</td>\n",
       "      <td>8.01</td>\n",
       "      <td>4.0</td>\n",
       "    </tr>\n",
       "    <tr>\n",
       "      <th>2</th>\n",
       "      <td>1</td>\n",
       "      <td>3</td>\n",
       "      <td>4</td>\n",
       "      <td>3586768</td>\n",
       "      <td>4.94</td>\n",
       "      <td>6.01</td>\n",
       "      <td>6.12</td>\n",
       "      <td>8.06</td>\n",
       "      <td>4.0</td>\n",
       "    </tr>\n",
       "    <tr>\n",
       "      <th>3</th>\n",
       "      <td>1</td>\n",
       "      <td>4</td>\n",
       "      <td>24</td>\n",
       "      <td>4493800</td>\n",
       "      <td>7.04</td>\n",
       "      <td>7.09</td>\n",
       "      <td>8.01</td>\n",
       "      <td>8.22</td>\n",
       "      <td>4.0</td>\n",
       "    </tr>\n",
       "    <tr>\n",
       "      <th>4</th>\n",
       "      <td>1</td>\n",
       "      <td>5</td>\n",
       "      <td>20</td>\n",
       "      <td>5362005</td>\n",
       "      <td>8.26</td>\n",
       "      <td>7.91</td>\n",
       "      <td>7.19</td>\n",
       "      <td>8.13</td>\n",
       "      <td>1.0</td>\n",
       "    </tr>\n",
       "  </tbody>\n",
       "</table>\n",
       "</div>"
      ],
      "text/plain": [
       "   Participant_id  Trial  Experiment_id  Start_time  Valence  Arousal  \\\n",
       "0               1      1              5     1695918     6.96     3.92   \n",
       "1               1      2             18     2714905     7.23     7.15   \n",
       "2               1      3              4     3586768     4.94     6.01   \n",
       "3               1      4             24     4493800     7.04     7.09   \n",
       "4               1      5             20     5362005     8.26     7.91   \n",
       "\n",
       "   Dominance  Liking  Familiarity  \n",
       "0       7.19    6.05          4.0  \n",
       "1       6.94    8.01          4.0  \n",
       "2       6.12    8.06          4.0  \n",
       "3       8.01    8.22          4.0  \n",
       "4       7.19    8.13          1.0  "
      ]
     },
     "execution_count": 3,
     "metadata": {},
     "output_type": "execute_result"
    }
   ],
   "source": [
    "PR.head()"
   ]
  },
  {
   "cell_type": "markdown",
   "metadata": {},
   "source": [
    "## Preprocessed Data Formats\n",
    "\n",
    "** The data looks as follows: **\n",
    "\n",
    "| Array name | Array shape |\tArray contents |\n",
    "| ----------- | ----------- | ------------------| \n",
    "| data | 40 x 40 x 8064 | video/trial x channel x data | \n",
    "| labels | 40 x 4 |video/trial x label (valence, arousal, dominance, liking) |\n",
    "\n",
    "** Furthermore it is worth noting that in this pre processed dataset the following preprocessing steps were taken on the EEG data (the first 32 channels) of data. **\n",
    "\n",
    "1. The data was downsampled to 128Hz.\n",
    "2. EOG artefacts were removed as in [1].\n",
    "3. A bandpass frequency filter from 4.0-45.0Hz was applied.\n",
    "4. The data was averaged to the common reference.\n",
    "5. The EEG channels were reordered so that they all follow the Geneva order as above.\n",
    "6. The data was segmented into 60 second trials and a 3 second pre-trial baseline removed.\n",
    "7. The trials were reordered from presentation order to video (Experiment_id) order.\n",
    "\n",
    "** The remaining 8 channels were preprocessed in the following way: **\n",
    "\n",
    "1. The data was downsampled to 128Hz.\n",
    "2. The data was segmented into 60 second trials and a 3 second pre-trial baseline removed.\n",
    "3. The trials were reordered from presentation order to video (Experiment_id) order.\n",
    "\n",
    "We have written a file to combine all the sets into an easily usable dictionary."
   ]
  },
  {
   "cell_type": "code",
   "execution_count": 4,
   "metadata": {},
   "outputs": [],
   "source": [
    "# DEAP preprocessed data construction\n",
    "# Lets get a brief overview of one piece of data\n",
    "# The data is cut up into 32 pieces each with their own dat file loadable via pickle\n",
    "import pickle\n",
    "f = open('./dataset/s01.dat', 'rb')\n",
    "x = pickle.load(f, encoding='latin1')"
   ]
  },
  {
   "cell_type": "code",
   "execution_count": 5,
   "metadata": {},
   "outputs": [],
   "source": [
    "x['data'] = x['data'][:,:32,384:]"
   ]
  },
  {
   "cell_type": "code",
   "execution_count": 6,
   "metadata": {},
   "outputs": [
    {
     "data": {
      "text/plain": [
       "dict_keys(['labels', 'data'])"
      ]
     },
     "execution_count": 6,
     "metadata": {},
     "output_type": "execute_result"
    }
   ],
   "source": [
    "x.keys()"
   ]
  },
  {
   "cell_type": "code",
   "execution_count": 7,
   "metadata": {},
   "outputs": [
    {
     "data": {
      "text/plain": [
       "(40, 4)"
      ]
     },
     "execution_count": 7,
     "metadata": {},
     "output_type": "execute_result"
    }
   ],
   "source": [
    "x['labels'].shape"
   ]
  },
  {
   "cell_type": "code",
   "execution_count": 8,
   "metadata": {},
   "outputs": [
    {
     "data": {
      "text/plain": [
       "(40, 32, 7680)"
      ]
     },
     "execution_count": 8,
     "metadata": {},
     "output_type": "execute_result"
    }
   ],
   "source": [
    "x['data'].shape"
   ]
  },
  {
   "cell_type": "code",
   "execution_count": 9,
   "metadata": {},
   "outputs": [],
   "source": [
    "first_video = x['data'][0]"
   ]
  },
  {
   "cell_type": "markdown",
   "metadata": {},
   "source": [
    "### Data_load_Construction\n",
    "make all 32 data"
   ]
  },
  {
   "cell_type": "code",
   "execution_count": 10,
   "metadata": {},
   "outputs": [],
   "source": [
    "data = {}\n",
    "for i in range(1,3):\n",
    "    if i < 10:\n",
    "        expId = \"0\" + str(i)\n",
    "    else:\n",
    "        expId = str(i)\n",
    "        \n",
    "    file_to_load = \"./dataset/s\"+expId+\".dat\"\n",
    "    per_experiment_data = pickle.load(open(file_to_load,'rb'), encoding='latin1')\n",
    "    per_experiment_data = per_experiment_data['data'][:,:32,384:]\n",
    "    data[i] = per_experiment_data\n",
    "\n",
    "f = open(\"./dataset/all_32.dat\",\"wb\")\n",
    "pickle.dump(data, f, protocol=pickle.HIGHEST_PROTOCOL)\n",
    "f.close()"
   ]
  },
  {
   "cell_type": "code",
   "execution_count": 8,
   "metadata": {},
   "outputs": [],
   "source": [
    "raw_data_dict = pickle.load(open('./dataset/all_32.dat','rb'),encoding='latin1')"
   ]
  },
  {
   "cell_type": "code",
   "execution_count": 9,
   "metadata": {},
   "outputs": [
    {
     "data": {
      "text/plain": [
       "dict_keys([1, 2])"
      ]
     },
     "execution_count": 9,
     "metadata": {},
     "output_type": "execute_result"
    }
   ],
   "source": [
    "raw_data_dict.keys()"
   ]
  },
  {
   "cell_type": "code",
   "execution_count": 10,
   "metadata": {},
   "outputs": [
    {
     "data": {
      "text/plain": [
       "(32, 7680)"
      ]
     },
     "execution_count": 10,
     "metadata": {},
     "output_type": "execute_result"
    }
   ],
   "source": [
    "first_vedio = x['data'][0]\n",
    "first_vedio.shape"
   ]
  },
  {
   "cell_type": "code",
   "execution_count": 45,
   "metadata": {},
   "outputs": [
    {
     "data": {
      "text/plain": [
       "7680"
      ]
     },
     "execution_count": 45,
     "metadata": {},
     "output_type": "execute_result"
    }
   ],
   "source": [
    "data = first_vedio[0]\n",
    "len(data)"
   ]
  },
  {
   "cell_type": "code",
   "execution_count": 46,
   "metadata": {},
   "outputs": [],
   "source": [
    "list_data = np.split(data,60)\n",
    "data = list_data[0]"
   ]
  },
  {
   "cell_type": "code",
   "execution_count": 47,
   "metadata": {},
   "outputs": [],
   "source": [
    "fs = 128                              # Sampling rate (128 Hz)\n",
    "# Get real amplitudes of FFT (only in postive frequencies)\n",
    "fft_vals = np.absolute(np.fft.rfft(data))\n",
    "# Get frequencies for amplitudes in Hz\n",
    "fft_freq = np.fft.rfftfreq(len(data), 1.0/fs)"
   ]
  },
  {
   "cell_type": "code",
   "execution_count": 48,
   "metadata": {},
   "outputs": [
    {
     "data": {
      "text/plain": [
       "65"
      ]
     },
     "execution_count": 48,
     "metadata": {},
     "output_type": "execute_result"
    }
   ],
   "source": [
    "len(fft_freq)"
   ]
  },
  {
   "cell_type": "code",
   "execution_count": 49,
   "metadata": {},
   "outputs": [
    {
     "name": "stdout",
     "output_type": "stream",
     "text": [
      "5\n",
      "5\n",
      "5\n",
      "19\n",
      "16\n"
     ]
    }
   ],
   "source": [
    "# Define EEG bands\n",
    "eeg_bands = {'Delta': (0, 4),\n",
    "             'Theta': (4, 8),\n",
    "             'Alpha': (8, 12),\n",
    "             'Beta': (12, 30),\n",
    "             'Gamma': (30, 45)}\n",
    "\n",
    "# Take the mean of the fft amplitude for each EEG band\n",
    "eeg_band_fft = dict()\n",
    "for band in eeg_bands:\n",
    "    freq_ix = np.where((fft_freq >= eeg_bands[band][0]) & \n",
    "                       (fft_freq <= eeg_bands[band][1]))[0]\n",
    "    a = fft_vals[freq_ix] \n",
    "    print(len(a))"
   ]
  },
  {
   "cell_type": "code",
   "execution_count": 50,
   "metadata": {},
   "outputs": [
    {
     "data": {
      "image/png": "[encoded data removed]",
      "text/plain": [
       "<Figure size 864x288 with 1 Axes>"
      ]
     },
     "metadata": {},
     "output_type": "display_data"
    }
   ],
   "source": [
    "import matplotlib.pyplot as plt\n",
    "import seaborn as sns\n",
    "sns.set(font_scale=1.2)\n",
    "\n",
    "# Define sampling frequency and time vector\n",
    "sf = 128.\n",
    "time = np.arange(data.size) / sf\n",
    "\n",
    "# Plot the signal\n",
    "fig, ax = plt.subplots(1, 1, figsize=(12, 4))\n",
    "plt.plot(time, data, lw=1.5, color='k')\n",
    "plt.xlabel('Time (seconds)')\n",
    "plt.ylabel('Voltage')\n",
    "plt.xlim([time.min(), time.max()])\n",
    "plt.title('N3 sleep EEG data (F3)')\n",
    "sns.despine()"
   ]
  },
  {
   "cell_type": "code",
   "execution_count": 55,
   "metadata": {},
   "outputs": [],
   "source": [
    "win = 0.5 * sf\n",
    "freqs, psd = signal.welch(data, sf, nperseg=win)"
   ]
  },
  {
   "cell_type": "code",
   "execution_count": 59,
   "metadata": {},
   "outputs": [
    {
     "data": {
      "text/plain": [
       "array([1.12591333e-02, 1.19813893e-02, 3.99359571e-01, 5.06571472e-01,\n",
       "       4.20191587e-01, 1.18849867e+00, 1.34941053e+00, 4.82265619e-01,\n",
       "       2.86402322e-01, 2.84148038e-01, 3.80838907e-01, 4.87505200e-01,\n",
       "       7.14265988e-02, 5.87014242e-02, 6.10281821e-02, 1.26594078e-01,\n",
       "       1.00043999e-01, 4.70227697e-02, 1.80107117e-02, 2.71732647e-02,\n",
       "       2.99575369e-02, 4.50562223e-02, 2.01005922e-02, 3.15562614e-03,\n",
       "       2.48676578e-05, 1.76744909e-06, 3.52258465e-07, 1.08310309e-07,\n",
       "       4.30328946e-08, 2.05177613e-08, 1.14992336e-08, 7.78234995e-09,\n",
       "       3.37635900e-09])"
      ]
     },
     "execution_count": 59,
     "metadata": {},
     "output_type": "execute_result"
    }
   ],
   "source": [
    "psd"
   ]
  },
  {
   "cell_type": "code",
   "execution_count": 51,
   "metadata": {},
   "outputs": [
    {
     "name": "stdout",
     "output_type": "stream",
     "text": [
      "[ 0.  2.  4.  6.  8. 10. 12. 14. 16. 18. 20. 22. 24. 26. 28. 30. 32. 34.\n",
      " 36. 38. 40. 42. 44. 46. 48. 50. 52. 54. 56. 58. 60. 62. 64.] [1.12591333e-02 1.19813893e-02 3.99359571e-01 5.06571472e-01\n",
      " 4.20191587e-01 1.18849867e+00 1.34941053e+00 4.82265619e-01\n",
      " 2.86402322e-01 2.84148038e-01 3.80838907e-01 4.87505200e-01\n",
      " 7.14265988e-02 5.87014242e-02 6.10281821e-02 1.26594078e-01\n",
      " 1.00043999e-01 4.70227697e-02 1.80107117e-02 2.71732647e-02\n",
      " 2.99575369e-02 4.50562223e-02 2.01005922e-02 3.15562614e-03\n",
      " 2.48676578e-05 1.76744909e-06 3.52258465e-07 1.08310309e-07\n",
      " 4.30328946e-08 2.05177613e-08 1.14992336e-08 7.78234995e-09\n",
      " 3.37635900e-09]\n"
     ]
    },
    {
     "data": {
      "image/png": "[encoded data removed]",
      "text/plain": [
       "<Figure size 576x288 with 1 Axes>"
      ]
     },
     "metadata": {},
     "output_type": "display_data"
    }
   ],
   "source": [
    "from scipy import signal\n",
    "\n",
    "# Define window length (0.5 seconds)\n",
    "win = 0.5 * sf\n",
    "freqs, psd = signal.welch(data, sf, nperseg=win)\n",
    "print(freqs,psd)\n",
    "\n",
    "# Plot the power spectrum\n",
    "sns.set(font_scale=1.2, style='white')\n",
    "plt.figure(figsize=(8, 4))\n",
    "plt.plot(freqs, psd, color='k', lw=2)\n",
    "plt.xlabel('Frequency (Hz)')\n",
    "plt.ylabel('Power spectral density (V^2 / Hz)')\n",
    "plt.ylim([0, psd.max() * 1.1])\n",
    "plt.title(\"Welch's periodogram\")\n",
    "plt.xlim([0, freqs.max()])\n",
    "sns.despine()"
   ]
  },
  {
   "cell_type": "code",
   "execution_count": 52,
   "metadata": {},
   "outputs": [],
   "source": [
    "# Define EEG bands\n",
    "eeg_bands = {'Delta': (0, 4),\n",
    "             'Theta': (4, 8),\n",
    "             'Alpha': (8, 12),\n",
    "             'Beta': (12, 30),\n",
    "             'Gamma': (30, 50)}"
   ]
  },
  {
   "cell_type": "code",
   "execution_count": 53,
   "metadata": {},
   "outputs": [
    {
     "data": {
      "image/png": "[encoded data removed]",
      "text/plain": [
       "<Figure size 504x288 with 1 Axes>"
      ]
     },
     "metadata": {},
     "output_type": "display_data"
    }
   ],
   "source": [
    "# Define delta lower and upper limits\n",
    "low, high = eeg_bands['Gamma']\n",
    "\n",
    "# Find intersecting values in frequency vector\n",
    "idx_delta = np.logical_and(freqs >= low, freqs <= high)\n",
    "\n",
    "# Plot the power spectral density and fill the delta area\n",
    "plt.figure(figsize=(7, 4))\n",
    "plt.plot(freqs, psd, lw=2, color='k')\n",
    "plt.fill_between(freqs, psd, where=idx_delta, color='skyblue')\n",
    "plt.xlabel('Frequency (Hz)')\n",
    "plt.ylabel('Power spectral density (uV^2 / Hz)')\n",
    "plt.xlim([0, 50])\n",
    "plt.ylim([0, psd.max() * 1.1])\n",
    "plt.title(\"Welch's periodogram\")\n",
    "sns.despine()"
   ]
  },
  {
   "cell_type": "code",
   "execution_count": 54,
   "metadata": {},
   "outputs": [],
   "source": [
    "from scipy.signal import welch\n",
    "from scipy.integrate import simps\n",
    "\n",
    "def bandpower(data, sf, band, window_sec=0.25, relative=False):\n",
    "    band = np.asarray(band)\n",
    "    low, high = band\n",
    "\n",
    "    # Define window length\n",
    "    if window_sec is not None:\n",
    "        nperseg = window_sec * sf\n",
    "    else:\n",
    "        nperseg = (2 / low) * sf\n",
    "\n",
    "    # Compute the modified periodogram (Welch)\n",
    "    freqs, psd = welch(data, sf, nperseg=nperseg)\n",
    "\n",
    "    # Frequency resolution\n",
    "    freq_res = freqs[1] - freqs[0]\n",
    "\n",
    "    # Find closest indices of band in frequency vector\n",
    "    idx_band = np.logical_and(freqs >= low, freqs <= high)\n",
    "\n",
    "    # Integral approximation of the spectrum using Simpson's rule.\n",
    "    bp = simps(psd[idx_band], dx=freq_res)\n",
    "\n",
    "    if relative:\n",
    "        bp /= simps(psd, dx=freq_res)\n",
    "    return bp"
   ]
  },
  {
   "cell_type": "code",
   "execution_count": 66,
   "metadata": {},
   "outputs": [
    {
     "name": "stdout",
     "output_type": "stream",
     "text": [
      "Delta/beta ratio (absolute): 0.088\n",
      "Delta/beta ratio (relative): 0.088\n"
     ]
    }
   ],
   "source": [
    "# Define the duration of the window to be 4 seconds\n",
    "win_sec = 0.5\n",
    "\n",
    "# Delta/beta ratio based on the absolute power\n",
    "db = bandpower(data, sf, [0.5, 4], win_sec) / bandpower(data, sf, [12, 30], win_sec)\n",
    "\n",
    "# Delta/beta ratio based on the relative power\n",
    "db_rel = bandpower(data, sf, [0.5, 4], win_sec, True) / bandpower(data, sf, [12, 30], win_sec, True)\n",
    "\n",
    "print('Delta/beta ratio (absolute): %.3f' % db)\n",
    "print('Delta/beta ratio (relative): %.3f' % db_rel)"
   ]
  },
  {
   "cell_type": "markdown",
   "metadata": {},
   "source": [
    "### Signal Processing\n",
    "\n",
    "Summarizing single channel signal data and extracting feature from it."
   ]
  },
  {
   "cell_type": "markdown",
   "metadata": {},
   "source": [
    "### eeg_features\n",
    "\n",
    "- power_spectrums(signal)\n",
    "    - calculates the concatenated vector of the power spectra\n",
    "    - for the alpha, theta, beta bands\n",
    "    - via the welch method for estimating spectral density\n",
    "    \n",
    "- power_spectrums_specific(signal):\n",
    "\t- calculates the concatenated vector of the power spectra\n",
    "\t- for the alpha, theta, beta bands\n",
    "\t- via the welch method for estimating spectral density\n",
    "    - list return"
   ]
  },
  {
   "cell_type": "code",
   "execution_count": 24,
   "metadata": {},
   "outputs": [
    {
     "name": "stderr",
     "output_type": "stream",
     "text": [
      "/Users/seungheondoh/anaconda3/envs/python3.6/lib/python3.6/site-packages/ipykernel_launcher.py:12: DeprecationWarning: object of type <class 'float'> cannot be safely interpreted as an integer.\n",
      "  if sys.path[0] == '':\n"
     ]
    }
   ],
   "source": [
    "import numpy as np\n",
    "import scipy.signal\n",
    "\n",
    "eeg = list_data[0]\n",
    "pi = 3.14\n",
    "y = np.array(eeg)  # faster array\n",
    "L = len(eeg)       # signal length\n",
    "fs = 128.0         # frequency sampling 128Hz\n",
    "T = 1/fs           # sample time\n",
    "t = np.linspace(1,L,L)*T\n",
    "\n",
    "f = fs*np.linspace(0,L/10,L/10)/L  # single side frequency vector, real frequency up to fs/2\n",
    "Y = np.fft.fft(y)\n",
    "\n",
    "filtered = []\n",
    "b= [] # store filter coefficient\n",
    "cutoff = [0.5,4.0,8.0,12.0,30.0] # delta, alpha, theta, beta bands\n",
    "\n",
    "for band in range(0, len(cutoff)-1):\n",
    "    wl = 2*cutoff[band]/fs*pi\n",
    "    wh = 2*cutoff[band+1]/fs*pi\n",
    "    M = 128      # Set number of weights as 128\n",
    "    bn = np.zeros(M)\n",
    "    \n",
    "    for i in range(0,M):     # Generate bandpass weighting function\n",
    "        n = i-M/2       # Make symmetrical\n",
    "        if n == 0:\n",
    "            bn[i] = wh/pi - wl/pi;\n",
    "        else:\n",
    "            bn[i] = (np.sin(wh*n))/(pi*n) - (np.sin(wl*n))/(pi*n)   # Filter impulse response\n",
    "\n",
    "    bn = bn*np.kaiser(M,5.2)  # apply Kaiser window, alpha= 5.2\n",
    "    b.append(bn)\n",
    "\n",
    "    [w,h]= scipy.signal.freqz(bn,1)\n",
    "    filtered.append(np.convolve(bn, y)) # filter the signal by convolving the signal with filter coefficients\n",
    "\n",
    "original= filtered[0] # original\n",
    "alpha = filtered[1] # alpha\n",
    "theta = filtered[2] # theta\n",
    "beta = filtered[3] # beta"
   ]
  },
  {
   "cell_type": "code",
   "execution_count": 25,
   "metadata": {},
   "outputs": [
    {
     "data": {
      "text/plain": [
       "255"
      ]
     },
     "execution_count": 25,
     "metadata": {},
     "output_type": "execute_result"
    }
   ],
   "source": [
    "len(original)"
   ]
  },
  {
   "cell_type": "code",
   "execution_count": 30,
   "metadata": {},
   "outputs": [
    {
     "data": {
      "text/plain": [
       "255"
      ]
     },
     "execution_count": 30,
     "metadata": {},
     "output_type": "execute_result"
    }
   ],
   "source": [
    "len(alpha)"
   ]
  },
  {
   "cell_type": "code",
   "execution_count": 27,
   "metadata": {},
   "outputs": [
    {
     "data": {
      "text/plain": [
       "array([-0.00062278, -0.00136742, -0.00168336, -0.00146142, -0.00088076,\n",
       "        0.00025631,  0.00256093,  0.00628269,  0.01092489,  0.01592289])"
      ]
     },
     "execution_count": 27,
     "metadata": {},
     "output_type": "execute_result"
    }
   ],
   "source": [
    "original[0:10]"
   ]
  },
  {
   "cell_type": "code",
   "execution_count": 28,
   "metadata": {},
   "outputs": [
    {
     "data": {
      "text/plain": [
       "array([-3.94217167e-06, -1.51161562e-04, -4.10540481e-04, -5.61053917e-04,\n",
       "       -3.45296238e-04,  3.85791946e-04,  1.68802927e-03,  3.54411517e-03,\n",
       "        5.69302533e-03,  7.41223858e-03])"
      ]
     },
     "execution_count": 28,
     "metadata": {},
     "output_type": "execute_result"
    }
   ],
   "source": [
    "alpha[0:10]"
   ]
  },
  {
   "cell_type": "code",
   "execution_count": 21,
   "metadata": {},
   "outputs": [
    {
     "data": {
      "text/plain": [
       "7807"
      ]
     },
     "execution_count": 21,
     "metadata": {},
     "output_type": "execute_result"
    }
   ],
   "source": [
    "len(alpha)"
   ]
  },
  {
   "cell_type": "code",
   "execution_count": 61,
   "metadata": {},
   "outputs": [
    {
     "ename": "TypeError",
     "evalue": "only size-1 arrays can be converted to Python scalars",
     "output_type": "error",
     "traceback": [
      "\u001b[0;31m---------------------------------------------------------------------------\u001b[0m",
      "\u001b[0;31mTypeError\u001b[0m                                 Traceback (most recent call last)",
      "\u001b[0;32m<ipython-input-61-408652a83e01>\u001b[0m in \u001b[0;36m<module>\u001b[0;34m\u001b[0m\n\u001b[0;32m----> 1\u001b[0;31m \u001b[0mnp\u001b[0m\u001b[0;34m.\u001b[0m\u001b[0mstack\u001b[0m\u001b[0;34m(\u001b[0m\u001b[0malpha\u001b[0m\u001b[0;34m,\u001b[0m\u001b[0mbeta\u001b[0m\u001b[0;34m)\u001b[0m\u001b[0;34m\u001b[0m\u001b[0;34m\u001b[0m\u001b[0m\n\u001b[0m",
      "\u001b[0;32m~/anaconda3/envs/python3.6/lib/python3.6/site-packages/numpy/core/shape_base.py\u001b[0m in \u001b[0;36mstack\u001b[0;34m(arrays, axis, out)\u001b[0m\n\u001b[1;32m    354\u001b[0m \u001b[0;34m\u001b[0m\u001b[0m\n\u001b[1;32m    355\u001b[0m     \u001b[0mresult_ndim\u001b[0m \u001b[0;34m=\u001b[0m \u001b[0marrays\u001b[0m\u001b[0;34m[\u001b[0m\u001b[0;36m0\u001b[0m\u001b[0;34m]\u001b[0m\u001b[0;34m.\u001b[0m\u001b[0mndim\u001b[0m \u001b[0;34m+\u001b[0m \u001b[0;36m1\u001b[0m\u001b[0;34m\u001b[0m\u001b[0;34m\u001b[0m\u001b[0m\n\u001b[0;32m--> 356\u001b[0;31m     \u001b[0maxis\u001b[0m \u001b[0;34m=\u001b[0m \u001b[0mnormalize_axis_index\u001b[0m\u001b[0;34m(\u001b[0m\u001b[0maxis\u001b[0m\u001b[0;34m,\u001b[0m \u001b[0mresult_ndim\u001b[0m\u001b[0;34m)\u001b[0m\u001b[0;34m\u001b[0m\u001b[0;34m\u001b[0m\u001b[0m\n\u001b[0m\u001b[1;32m    357\u001b[0m \u001b[0;34m\u001b[0m\u001b[0m\n\u001b[1;32m    358\u001b[0m     \u001b[0msl\u001b[0m \u001b[0;34m=\u001b[0m \u001b[0;34m(\u001b[0m\u001b[0mslice\u001b[0m\u001b[0;34m(\u001b[0m\u001b[0;32mNone\u001b[0m\u001b[0;34m)\u001b[0m\u001b[0;34m,\u001b[0m\u001b[0;34m)\u001b[0m \u001b[0;34m*\u001b[0m \u001b[0maxis\u001b[0m \u001b[0;34m+\u001b[0m \u001b[0;34m(\u001b[0m\u001b[0m_nx\u001b[0m\u001b[0;34m.\u001b[0m\u001b[0mnewaxis\u001b[0m\u001b[0;34m,\u001b[0m\u001b[0;34m)\u001b[0m\u001b[0;34m\u001b[0m\u001b[0;34m\u001b[0m\u001b[0m\n",
      "\u001b[0;31mTypeError\u001b[0m: only size-1 arrays can be converted to Python scalars"
     ]
    }
   ],
   "source": [
    "np.stack(alpha,beta)"
   ]
  },
  {
   "cell_type": "code",
   "execution_count": null,
   "metadata": {},
   "outputs": [],
   "source": []
  }
 ],
 "metadata": {
  "kernelspec": {
   "display_name": "Python 3",
   "language": "python",
   "name": "python3"
  },
  "language_info": {
   "codemirror_mode": {
    "name": "ipython",
    "version": 3
   },
   "file_extension": ".py",
   "mimetype": "text/x-python",
   "name": "python",
   "nbconvert_exporter": "python",
   "pygments_lexer": "ipython3",
   "version": "3.6.8"
  }
 },
 "nbformat": 4,
 "nbformat_minor": 2
}
